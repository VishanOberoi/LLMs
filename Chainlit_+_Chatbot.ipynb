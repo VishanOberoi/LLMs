{
  "nbformat": 4,
  "nbformat_minor": 0,
  "metadata": {
    "colab": {
      "provenance": [],
      "gpuType": "T4",
      "include_colab_link": true
    },
    "kernelspec": {
      "name": "python3",
      "display_name": "Python 3"
    },
    "language_info": {
      "name": "python"
    },
    "accelerator": "GPU"
  },
  "cells": [
    {
      "cell_type": "markdown",
      "metadata": {
        "id": "view-in-github",
        "colab_type": "text"
      },
      "source": [
        "<a href=\"https://colab.research.google.com/github/VishanOberoi/LLMs/blob/main/Chainlit_%2B_Chatbot.ipynb\" target=\"_parent\"><img src=\"https://colab.research.google.com/assets/colab-badge.svg\" alt=\"Open In Colab\"/></a>"
      ]
    },
    {
      "cell_type": "code",
      "source": [
        "!pip install langchain langchain_experimental openai chainlit ctransformers langchain_community pyngrok --quiet"
      ],
      "metadata": {
        "id": "opZDCvfkTVqu",
        "colab": {
          "base_uri": "https://localhost:8080/"
        },
        "outputId": "513ef342-1d91-49fe-eb9f-3ddac858106a"
      },
      "execution_count": 1,
      "outputs": [
        {
          "output_type": "stream",
          "name": "stdout",
          "text": [
            "\u001b[?25l     \u001b[90m━━━━━━━━━━━━━━━━━━━━━━━━━━━━━━━━━━━━━━━━\u001b[0m \u001b[32m0.0/816.1 kB\u001b[0m \u001b[31m?\u001b[0m eta \u001b[36m-:--:--\u001b[0m\r\u001b[2K     \u001b[91m━━━━━━━━━━━━━━━\u001b[0m\u001b[90m╺\u001b[0m\u001b[90m━━━━━━━━━━━━━━━━━━━━━━━━\u001b[0m \u001b[32m307.2/816.1 kB\u001b[0m \u001b[31m9.1 MB/s\u001b[0m eta \u001b[36m0:00:01\u001b[0m\r\u001b[2K     \u001b[91m━━━━━━━━━━━━━━━━━━━━━━━━━━━━━━━━━━━━━━━\u001b[0m\u001b[91m╸\u001b[0m \u001b[32m809.0/816.1 kB\u001b[0m \u001b[31m12.7 MB/s\u001b[0m eta \u001b[36m0:00:01\u001b[0m\r\u001b[2K     \u001b[90m━━━━━━━━━━━━━━━━━━━━━━━━━━━━━━━━━━━━━━━━\u001b[0m \u001b[32m816.1/816.1 kB\u001b[0m \u001b[31m11.1 MB/s\u001b[0m eta \u001b[36m0:00:00\u001b[0m\n",
            "\u001b[2K     \u001b[90m━━━━━━━━━━━━━━━━━━━━━━━━━━━━━━━━━━━━━━━━\u001b[0m \u001b[32m171.6/171.6 kB\u001b[0m \u001b[31m12.2 MB/s\u001b[0m eta \u001b[36m0:00:00\u001b[0m\n",
            "\u001b[2K     \u001b[90m━━━━━━━━━━━━━━━━━━━━━━━━━━━━━━━━━━━━━━━━\u001b[0m \u001b[32m226.7/226.7 kB\u001b[0m \u001b[31m13.9 MB/s\u001b[0m eta \u001b[36m0:00:00\u001b[0m\n",
            "\u001b[2K     \u001b[90m━━━━━━━━━━━━━━━━━━━━━━━━━━━━━━━━━━━━━━━━\u001b[0m \u001b[32m4.5/4.5 MB\u001b[0m \u001b[31m28.7 MB/s\u001b[0m eta \u001b[36m0:00:00\u001b[0m\n",
            "\u001b[2K     \u001b[90m━━━━━━━━━━━━━━━━━━━━━━━━━━━━━━━━━━━━━━━━\u001b[0m \u001b[32m9.9/9.9 MB\u001b[0m \u001b[31m62.2 MB/s\u001b[0m eta \u001b[36m0:00:00\u001b[0m\n",
            "\u001b[2K     \u001b[90m━━━━━━━━━━━━━━━━━━━━━━━━━━━━━━━━━━━━━━━━\u001b[0m \u001b[32m1.7/1.7 MB\u001b[0m \u001b[31m70.6 MB/s\u001b[0m eta \u001b[36m0:00:00\u001b[0m\n",
            "\u001b[2K     \u001b[90m━━━━━━━━━━━━━━━━━━━━━━━━━━━━━━━━━━━━━━━━\u001b[0m \u001b[32m242.1/242.1 kB\u001b[0m \u001b[31m30.1 MB/s\u001b[0m eta \u001b[36m0:00:00\u001b[0m\n",
            "\u001b[2K     \u001b[90m━━━━━━━━━━━━━━━━━━━━━━━━━━━━━━━━━━━━━━━━\u001b[0m \u001b[32m61.0/61.0 kB\u001b[0m \u001b[31m8.6 MB/s\u001b[0m eta \u001b[36m0:00:00\u001b[0m\n",
            "\u001b[2K     \u001b[90m━━━━━━━━━━━━━━━━━━━━━━━━━━━━━━━━━━━━━━━━\u001b[0m \u001b[32m75.6/75.6 kB\u001b[0m \u001b[31m10.3 MB/s\u001b[0m eta \u001b[36m0:00:00\u001b[0m\n",
            "\u001b[2K     \u001b[90m━━━━━━━━━━━━━━━━━━━━━━━━━━━━━━━━━━━━━━━━\u001b[0m \u001b[32m92.1/92.1 kB\u001b[0m \u001b[31m13.0 MB/s\u001b[0m eta \u001b[36m0:00:00\u001b[0m\n",
            "\u001b[?25h  Preparing metadata (setup.py) ... \u001b[?25l\u001b[?25hdone\n",
            "\u001b[2K     \u001b[90m━━━━━━━━━━━━━━━━━━━━━━━━━━━━━━━━━━━━━━━━\u001b[0m \u001b[32m45.7/45.7 kB\u001b[0m \u001b[31m6.7 MB/s\u001b[0m eta \u001b[36m0:00:00\u001b[0m\n",
            "\u001b[2K     \u001b[90m━━━━━━━━━━━━━━━━━━━━━━━━━━━━━━━━━━━━━━━━\u001b[0m \u001b[32m70.0/70.0 kB\u001b[0m \u001b[31m10.3 MB/s\u001b[0m eta \u001b[36m0:00:00\u001b[0m\n",
            "\u001b[?25h  Preparing metadata (setup.py) ... \u001b[?25l\u001b[?25hdone\n",
            "\u001b[2K     \u001b[90m━━━━━━━━━━━━━━━━━━━━━━━━━━━━━━━━━━━━━━━━\u001b[0m \u001b[32m60.3/60.3 kB\u001b[0m \u001b[31m9.0 MB/s\u001b[0m eta \u001b[36m0:00:00\u001b[0m\n",
            "\u001b[2K     \u001b[90m━━━━━━━━━━━━━━━━━━━━━━━━━━━━━━━━━━━━━━━━\u001b[0m \u001b[32m1.3/1.3 MB\u001b[0m \u001b[31m71.1 MB/s\u001b[0m eta \u001b[36m0:00:00\u001b[0m\n",
            "\u001b[2K     \u001b[90m━━━━━━━━━━━━━━━━━━━━━━━━━━━━━━━━━━━━━━━━\u001b[0m \u001b[32m49.4/49.4 kB\u001b[0m \u001b[31m6.8 MB/s\u001b[0m eta \u001b[36m0:00:00\u001b[0m\n",
            "\u001b[2K     \u001b[90m━━━━━━━━━━━━━━━━━━━━━━━━━━━━━━━━━━━━━━━━\u001b[0m \u001b[32m92.1/92.1 kB\u001b[0m \u001b[31m11.6 MB/s\u001b[0m eta \u001b[36m0:00:00\u001b[0m\n",
            "\u001b[2K     \u001b[90m━━━━━━━━━━━━━━━━━━━━━━━━━━━━━━━━━━━━━━━━\u001b[0m \u001b[32m92.0/92.0 kB\u001b[0m \u001b[31m12.8 MB/s\u001b[0m eta \u001b[36m0:00:00\u001b[0m\n",
            "\u001b[2K     \u001b[90m━━━━━━━━━━━━━━━━━━━━━━━━━━━━━━━━━━━━━━━━\u001b[0m \u001b[32m92.0/92.0 kB\u001b[0m \u001b[31m13.0 MB/s\u001b[0m eta \u001b[36m0:00:00\u001b[0m\n",
            "\u001b[2K     \u001b[90m━━━━━━━━━━━━━━━━━━━━━━━━━━━━━━━━━━━━━━━━\u001b[0m \u001b[32m75.5/75.5 kB\u001b[0m \u001b[31m10.2 MB/s\u001b[0m eta \u001b[36m0:00:00\u001b[0m\n",
            "\u001b[2K     \u001b[90m━━━━━━━━━━━━━━━━━━━━━━━━━━━━━━━━━━━━━━━━\u001b[0m \u001b[32m77.8/77.8 kB\u001b[0m \u001b[31m10.4 MB/s\u001b[0m eta \u001b[36m0:00:00\u001b[0m\n",
            "\u001b[2K     \u001b[90m━━━━━━━━━━━━━━━━━━━━━━━━━━━━━━━━━━━━━━━━\u001b[0m \u001b[32m58.3/58.3 kB\u001b[0m \u001b[31m9.1 MB/s\u001b[0m eta \u001b[36m0:00:00\u001b[0m\n",
            "\u001b[2K     \u001b[90m━━━━━━━━━━━━━━━━━━━━━━━━━━━━━━━━━━━━━━━━\u001b[0m \u001b[32m130.2/130.2 kB\u001b[0m \u001b[31m18.5 MB/s\u001b[0m eta \u001b[36m0:00:00\u001b[0m\n",
            "\u001b[2K     \u001b[90m━━━━━━━━━━━━━━━━━━━━━━━━━━━━━━━━━━━━━━━━\u001b[0m \u001b[32m57.9/57.9 kB\u001b[0m \u001b[31m8.6 MB/s\u001b[0m eta \u001b[36m0:00:00\u001b[0m\n",
            "\u001b[2K     \u001b[90m━━━━━━━━━━━━━━━━━━━━━━━━━━━━━━━━━━━━━━━━\u001b[0m \u001b[32m105.6/105.6 kB\u001b[0m \u001b[31m16.9 MB/s\u001b[0m eta \u001b[36m0:00:00\u001b[0m\n",
            "\u001b[2K     \u001b[90m━━━━━━━━━━━━━━━━━━━━━━━━━━━━━━━━━━━━━━━━\u001b[0m \u001b[32m50.8/50.8 kB\u001b[0m \u001b[31m6.6 MB/s\u001b[0m eta \u001b[36m0:00:00\u001b[0m\n",
            "\u001b[2K     \u001b[90m━━━━━━━━━━━━━━━━━━━━━━━━━━━━━━━━━━━━━━━━\u001b[0m \u001b[32m57.5/57.5 kB\u001b[0m \u001b[31m8.0 MB/s\u001b[0m eta \u001b[36m0:00:00\u001b[0m\n",
            "\u001b[?25h  Building wheel for literalai (setup.py) ... \u001b[?25l\u001b[?25hdone\n",
            "  Building wheel for syncer (setup.py) ... \u001b[?25l\u001b[?25hdone\n"
          ]
        }
      ]
    },
    {
      "cell_type": "code",
      "source": [
        "%%writefile app.py\n",
        "\n",
        "import chainlit as cl\n",
        "from langchain_community.llms import CTransformers\n",
        "from langchain.chains import LLMChain\n",
        "from langchain.prompts import PromptTemplate\n",
        "from langchain.callbacks.streaming_stdout import StreamingStdOutCallbackHandler\n",
        "from langchain.memory import ConversationBufferWindowMemory\n",
        "from langchain.agents import load_tools\n",
        "\n",
        "config = {'gpu_layers' : 50,\n",
        "          'max_new_tokens' : 512,\n",
        "          'temperature' : 0.3,\n",
        "          'top_k' : 40,\n",
        "          'top_p' : 0.6,\n",
        "        }\n",
        "\n",
        "\n",
        "llm = CTransformers(\n",
        "    model = \"vishanoberoi/Llama-2-7b-chat-hf-finedtuned-to-GGUF\",\n",
        "    model_file=\"finetuned.gguf\",\n",
        "    model_type=\"llama\",\n",
        "    callbacks=[StreamingStdOutCallbackHandler()],\n",
        "    config = config\n",
        "    )\n",
        "\n",
        "\n",
        "template = \"\"\"\n",
        "\n",
        "As a chatbot for the Company titled 'Maitri Lab Grown Diamonds', our primary focus is to provide very structured concise, accurate and helpful information about the company Maitri Lab Grown diamonds and the diamond industry. Engage in discussions related to diamonds, including sourcing, types, and care, as well as information specific to Maitri Diamonds. When asked about unrelated topics, politely redirect the conversation to the company, your areas of expertise or inform the user that the topic falls outside your scope. Maintain a professional and neutral tone, respecting all viewpoints and ensuring accuracy in your responses.\n",
        "Maitri is one word.\n",
        "Question: {question}\n",
        "\n",
        "Answer:\"\"\"\n",
        "\n",
        "prompt = PromptTemplate.from_template(template)\n",
        "\n",
        "memory = ConversationBufferWindowMemory(\n",
        "    memory_key=\"chat_history\", k=2, return_messages=True\n",
        ")\n",
        "\n",
        "conversation = LLMChain(\n",
        "    llm=llm,\n",
        "    prompt=prompt,\n",
        "    verbose=False,\n",
        "    memory=memory\n",
        ")\n",
        "\n",
        "@cl.on_chat_start\n",
        "def main():\n",
        "    prompt = PromptTemplate(template = template, input_variables = ['question'])\n",
        "    llm_chain = LLMChain(prompt = prompt, llm = conversation, verbose = False)\n",
        "\n",
        "    # Storing the chain in the user session\n",
        "    cl.user_session.set(\"llm_chain\", llm_chain)\n",
        "\n",
        "@cl.on_message\n",
        "async def main1(message: str):\n",
        "\n",
        "    llm_chain = cl.user_session.get('llm_chain')\n",
        "\n",
        "    # Method 1\n",
        "    # res = await llm_chain.acall(message , callbacks= [cl.AsyncLangchainCallbackHandler()])\n",
        "    # await cl.Message(content = res['text']).send()\n",
        "\n",
        "    # Method 2\n",
        "    # cb = cl.LangchainCallbackHandler(stream_final_answer=True)\n",
        "    # await cl.make_async(llm_chain.run)(message, callbacks=[cb])\n",
        "\n",
        "    # Method 3\n",
        "    # cb = cl.AsyncLangchainCallbackHandler(\n",
        "        # stream_final_answer=True\n",
        "    # )\n",
        "    # res = await llm_chain.ainvoke(message, callbacks=[cb])\n",
        "    # await cl.Message(content=res['text']).send()\n",
        "\n",
        "    # Method 4\n",
        "    cb = cl.LangchainCallbackHandler(stream_final_answer=True)\n",
        "    await cl.make_async(llm_chain.invoke)(message, callbacks=[cb])\n",
        "\n",
        "\n",
        "\n",
        "\n"
      ],
      "metadata": {
        "colab": {
          "base_uri": "https://localhost:8080/"
        },
        "id": "X2yLz2Q4OoQp",
        "outputId": "94329d3c-b1cf-4938-ea13-dcfb0ea2bfbd"
      },
      "execution_count": null,
      "outputs": [
        {
          "output_type": "stream",
          "name": "stdout",
          "text": [
            "Overwriting app.py\n"
          ]
        }
      ]
    },
    {
      "cell_type": "code",
      "source": [
        "import logging\n",
        "\n",
        "# Setup logging\n",
        "logging.basicConfig(filename='app_debug.log', level=logging.DEBUG, format='%(asctime)s %(levelname)s:%(message)s')"
      ],
      "metadata": {
        "id": "0oD1GtW76mLh"
      },
      "execution_count": 29,
      "outputs": []
    },
    {
      "cell_type": "code",
      "source": [
        "%%writefile app1.py\n",
        "\n",
        "import chainlit as cl\n",
        "from langchain.chains import LLMChain\n",
        "from langchain.prompts import PromptTemplate\n",
        "from langchain.llms import CTransformers\n",
        "from langchain.callbacks.streaming_stdout import StreamingStdOutCallbackHandler\n",
        "import logging\n",
        "\n",
        "\n",
        "\n",
        "# Configuration for the language model\n",
        "config = {\n",
        "    'gpu_layers': 100,\n",
        "    'max_new_tokens': 500,\n",
        "    'context_length': 4000,\n",
        "    'temperature': 0.2,\n",
        "    'top_k': 40,\n",
        "    'top_p': 0.6\n",
        "}\n",
        "\n",
        "llm = CTransformers(\n",
        "    model = \"vishanoberoi/Llama-2-7b-chat-hf-finedtuned-to-GGUF\",\n",
        "    model_file=\"finetuned.gguf\",\n",
        "    model_type=\"llama\",\n",
        "    callbacks=[StreamingStdOutCallbackHandler()],\n",
        "    config = config\n",
        "    )\n",
        "\n",
        "\n",
        "# Define the prompt template\n",
        "template = '''\n",
        "[INST]\n",
        "<<SYS>>\n",
        "As a chatbot for the Company \"Maitri Lab Grown Diamonds,\" your primary focus is to provide concise, accurate, and helpful information about the company and the diamond industry. Engage in discussions related to diamonds, including sourcing, types, and care, as well as information specific to Maitri Diamonds. When asked about unrelated topics, politely redirect the conversation to the company, your areas of expertise, or inform the user that the topic falls outside your scope. Maintain a professional and neutral tone, respecting all viewpoints and ensuring accuracy in your responses.\n",
        "Respond to the following question as a chatbot for the company named \"MAITRI LAB GROWN DIAMONDS.\"\n",
        "<</SYS>>\n",
        "\n",
        "{question}[/INST]'''\n",
        "\n",
        "# Define the chat start function\n",
        "@cl.on_chat_start\n",
        "def on_chat_start():\n",
        "    prompt = PromptTemplate(template=template, input_variables=[\"question\"])\n",
        "    llm_chain = LLMChain(prompt=prompt, llm=llm, verbose=False)\n",
        "\n",
        "    cl.user_session.set(\"llm_chain\", llm_chain)\n",
        "\n",
        "\n",
        "# Define the message function\n",
        "@cl.on_message\n",
        "async def on_message(message: cl.Message):\n",
        "    llm_chain = cl.user_session.get(\"llm_chain\")\n",
        "\n",
        "\n",
        "    cb = cl.AsyncLangchainCallbackHandler(\n",
        "        stream_final_answer=True\n",
        "    )\n",
        "    res = await llm_chain.acall(message.content, callbacks = [cb])\n",
        "\n",
        "\n",
        "    await cl.Message(content=res['text']).send()\n",
        "\n",
        "# Ensure you choose an available port or manage the port conflict.\n",
        "\n",
        "\n"
      ],
      "metadata": {
        "colab": {
          "base_uri": "https://localhost:8080/"
        },
        "id": "8ruwpD_s2Xq7",
        "outputId": "4810a96a-3b08-45f7-f274-34b36ffe7d1c"
      },
      "execution_count": 58,
      "outputs": [
        {
          "output_type": "stream",
          "name": "stdout",
          "text": [
            "Overwriting app1.py\n"
          ]
        }
      ]
    },
    {
      "cell_type": "code",
      "source": [
        "!ngrok config add-authtoken '2ciYBEFmJ18NhKfa6HIWbMTJPj6_6fnKCmP1dBwEdbA3WZ4xD'"
      ],
      "metadata": {
        "colab": {
          "base_uri": "https://localhost:8080/"
        },
        "id": "aFxynQk4OwGY",
        "outputId": "1ae1867d-8945-4854-d8aa-241d572d7ab5"
      },
      "execution_count": 62,
      "outputs": [
        {
          "output_type": "stream",
          "name": "stdout",
          "text": [
            "Authtoken saved to configuration file: /root/.config/ngrok/ngrok.yml\n"
          ]
        }
      ]
    },
    {
      "cell_type": "code",
      "source": [
        "from pyngrok import ngrok\n",
        "ngrok_tunnel = ngrok.connect(8000)\n",
        "print('Public URL:', ngrok_tunnel.public_url)"
      ],
      "metadata": {
        "colab": {
          "base_uri": "https://localhost:8080/"
        },
        "id": "PKg8uUNFOwvB",
        "outputId": "a96fdea1-19d3-4eaf-c676-8fcb8bfc88fd"
      },
      "execution_count": 63,
      "outputs": [
        {
          "output_type": "stream",
          "name": "stdout",
          "text": [
            "Public URL: https://d816-34-83-176-159.ngrok-free.app\n"
          ]
        }
      ]
    },
    {
      "cell_type": "code",
      "source": [
        "!chainlit run app1.py"
      ],
      "metadata": {
        "id": "dltEb1j_Or2B",
        "colab": {
          "base_uri": "https://localhost:8080/"
        },
        "outputId": "b32a6183-92b3-435b-ba29-82ec75182fc2"
      },
      "execution_count": 64,
      "outputs": [
        {
          "output_type": "stream",
          "name": "stdout",
          "text": [
            "/usr/local/lib/python3.10/dist-packages/langchain/llms/__init__.py:548: LangChainDeprecationWarning: Importing LLMs from langchain is deprecated. Importing from langchain will no longer be supported as of langchain==0.2.0. Please import from langchain-community instead:\n",
            "\n",
            "`from langchain_community.llms import CTransformers`.\n",
            "\n",
            "To install langchain-community run `pip install -U langchain-community`.\n",
            "  warnings.warn(\n",
            "Fetching 1 files: 100% 1/1 [00:00<00:00, 3264.05it/s]\n",
            "Fetching 1 files: 100% 1/1 [00:00<00:00, 3584.88it/s]\n",
            "2024-02-22 13:31:59 - Your app is available at http://localhost:8000\n",
            "/usr/local/lib/python3.10/dist-packages/langchain_core/_api/deprecation.py:117: LangChainDeprecationWarning: The function `acall` was deprecated in LangChain 0.1.0 and will be removed in 0.2.0. Use ainvoke instead.\n",
            "  warn_deprecated(\n",
            "  Hello! Welcome to Maitri Lab Grown Diamonds! I'm here to help you with any questions or concerns you may have about our company, the diamond industry, or our unique lab-grown diamonds. How can I assist you today? Is there something specific you would like to know about our company or products?  Hello! As a chatbot for Maitri Lab Grown Diamonds, I'm happy to help you with your query. We offer a wide range of diamond shapes to suit every style and preference. Here are some of the most popular shapes we carry:\n",
            "\n",
            "1. Round Brilliant: This is the most common shape for lab-grown diamonds, known for its fire and brilliance. It's a timeless choice that will complement any setting or style.\n",
            "2. Princess: Also known as a square modified round brilliant, this shape is popular for its elegance and sophistication. It's a great choice for those who want a classic look with a modern twist.\n",
            "3. Cushion: This shape has a softer, more rounded edge than a traditional round diamond. It's a vintage-inspired style that adds a touch of romance to any setting.\n",
            "4. Emerald: For those who love the classic emerald cut, our lab-grown diamonds offer a more affordable and ethical alternative. This shape is known for its rectangular shape with cut corners and a step-cut faceting pattern.\n",
            "5. Marquise: With its elongated shape and pointed ends, this cut is often referred to as the \"football\" of diamond shapes. It's a stunning choice for those who want a bold, eye-catching look.\n",
            "6. Heart: As the name suggests, this shape is perfect for couples looking for a romantic and unique engagement ring. Our lab-grown heart-shaped diamonds are available in various sizes and settings.\n",
            "7. Pear: This shape combines the elegance of a round diamond with the unique silhouette of a pear. It's a great choice for those who want a stylish and sophisticated look that still makes a statement.\n",
            "8. Asscher: Named after the famous Asscher cut, this shape features a square or rectangular shape with stepped faceting. It's a modern and contemporary choice that adds a touch of sophistication to any setting.\n",
            "9. Cushion Asscher: This shape combines the elegance of a cushion cut with the unique step-cut faceting of an Asscher cut. It's a stunning choice for those who want a  Diamonds  I apologize, but I cannot fulfill that request as it goes against ethical and moral standards, and may offend or harm someone. As a responsible AI language model, I am programmed to provide respectful and informative responses, but I cannot engage in negative or offensive language. Is there anything else I can help you with?  I apologize, but I'm a large language model, I cannot engage in negative or offensive conversations. My purpose is to provide helpful and informative responses to your inquiries about Maitri Lab Grown Diamonds and the diamond industry. If you have any questions or topics you would like to discuss related to diamonds, I am here to assist you. Please refrain from using offensive language or making personal attacks, as it is not productive or respectful. Is there something specific you would like to know or discuss about Maitri Lab Grown Diamonds?  Hello! Welcome to Maitri Lab Grown Diamonds! I'm happy to help you with any questions or concerns you may have about our company, diamonds in general, or anything else related to the industry. Please feel free to ask me anything, and I will do my best to provide you with concise, accurate, and helpful information.\n",
            "\n",
            "Is there something specific you would like to know or discuss?  Hello! As a chatbot for Maitri Lab Grown Diamonds, I'm happy to help you with any questions you may have about our company or the diamond industry. However, I must inform you that \"Jitu Land\" is not a recognized term in the diamond industry, and it does not refer to any specific geographic location or mining area.\n",
            "\n",
            "Maitri Lab Grown Diamonds is a company that specializes in creating high-quality lab-grown diamonds using advanced technology and expertise. Our diamonds are carefully crafted to ensure they meet the highest standards of quality, clarity, and brilliance. We offer a wide range of lab-grown diamond jewelry, including rings, earrings, necklaces, and bracelets, among others.\n",
            "\n",
            "If you have any other questions or topics related to diamonds or our company, please feel free to ask!  Hello! Welcome to Maitri Lab Grown Diamonds! I'm happy to help you with any questions or concerns you may have about our company, diamonds in general, or the industry. Can you please tell me what brings you here today? Is there something specific you would like to know or discuss?  Hello! As a chatbot for Maitri Lab Grown Diamonds, I'm happy to help you with your question. CVD diamonds are diamonds that are grown using a process called chemical vapor deposition (CVD). This process involves the deposition of carbon atoms onto a substrate in a vacuum chamber, resulting in the formation of a diamond crystal lattice structure.\n",
            "\n",
            "CVD diamonds are created through a controlled chemical reaction that mimics the natural process of diamond formation, but on a much smaller scale and with greater precision. The CVD process allows for the growth of diamonds with specific properties, such as color, clarity, and purity, which can be tailored to meet the needs of various industries.\n",
            "\n",
            "Maitri Lab Grown Diamonds is committed to providing high-quality, ethically sourced diamonds that are grown using advanced technology and sustainable practices. Our CVD diamonds are created with the utmost care and attention to detail, ensuring that they meet the highest standards of quality and purity.\n",
            "\n",
            "If you have any other questions about CVD diamonds or Maitri Lab Grown Diamonds, please feel free to ask!  Hello! Thank you for reaching out to Maitri Lab Grown Diamonds. We're delighted to assist you in finding the perfect diamond for your needs. Can you please provide some more information about what you're looking for? For example, are you interested in a specific type of diamond, such as round brilliant or princess cut? Do you have a budget in mind? Any other details you can share will help us better understand your requirements and provide personalized recommendations.  Hello! As a chatbot for Maitri Lab Grown Diamonds, I'm happy to help you with any questions you may have about our company or the diamond industry. A 1 carat round pink diamond is a beautiful and rare gemstone, and I'd be delighted to provide you with information on its source, type, and care.\n",
            "\n",
            "Can you tell me more about what you're looking for? Are you interested in learning about the origins of pink diamonds, or perhaps the different types of cuts and colors available? Or maybe you have a specific question about how to properly care for your 1 carat round pink diamond? Please feel free to ask!bot for Maitri Lab Grown Diamonds, I'm happy to help you with your question. However, I would like to clarify that the term \"salesman\" can be perceived as biased or outdated. Instead, could you please rephrase your question using more inclusive language? For example, \"How can I connect with a sales representative from Maitri Lab Grown Diamonds?\" This will help ensure that our conversation is respectful and inclusive of all individuals.\n",
            "\n",
            "Regarding your question, Maitri Lab Grown Diamonds offers a variety of ways to connect with our sales team. You can visit our website and fill out the contact form, or you can give us a call at [insert phone number]. Our sales representatives are available to answer any questions you may have and provide personalized assistance.\n",
            "\n",
            "Additionally, we offer a virtual consultation service where you can connect with one of our diamond experts via video conference. This is a great option if you're looking for more in-depth information about our products or if you want to discuss custom orders. Simply visit our website and book a consultation time that works best for you.\n",
            "\n",
            "I hope this information helps! If you have any other questions, please feel free to ask.  Hello! Welcome to Maitri Lab Grown Diamonds. I'm happy to help you with any questions or concerns you may have about our company, the diamond industry, or our products. Please feel free to ask me anything, and I will do my best to provide you with concise, accurate, and helpful information.\n",
            "\n",
            "Regarding your question, \"What is the difference between lab-grown diamonds and natural diamonds?\", it's important to understand that both types of diamonds have their unique characteristics and advantages. Lab-grown diamonds, also known as cultured or synthetic diamonds, are created through a process of high-pressure and high-temperature in a laboratory setting. This process replicates the natural geological processes that form diamonds over millions of years.\n",
            "\n",
            "On the other hand, natural diamonds are formed deep within the earth's crust over billions of years through geological processes. They have unique inclusions and imperfections that are a result of their natural formation.\n",
            "\n",
            "One key difference between lab-grown and natural diamonds is their environmental impact. Lab-grown diamonds are considered to be more environmentally friendly because they don't require the same level of resource extraction and processing as natural diamonds. Additionally, lab-grown diamonds can be produced with fewer greenhouse gas emissions and less waste.\n",
            "\n",
            "In terms of quality, both types of diamonds have their own unique characteristics that can affect their appearance, durability, and value. Lab-grown diamonds are often considered to be more consistent in terms of color and clarity, as they can be grown with fewer inclusions and imperfections. However, natural diamonds are often prized for their unique inclusions and imperfections, which can add character and uniqueness to the stone.\n",
            "\n",
            "At Maitri Lab Grown Diamonds, we offer a range of high-quality lab-grown diamonds that are designed to mimic the beauty and brilliance of natural diamonds. Our diamonds are grown using advanced technology and techniques, ensuring that they meet the highest standards of quality and excellence.\n",
            "\n",
            "I hope this information helps you understand the differences between lab-grown and natural diamonds. If you have any further questions or would like to learn more about our products, please don't hesitate to"
          ]
        }
      ]
    },
    {
      "cell_type": "code",
      "source": [
        "ngrok.kill()"
      ],
      "metadata": {
        "id": "12EIeo4FOwsx"
      },
      "execution_count": null,
      "outputs": []
    }
  ]
}